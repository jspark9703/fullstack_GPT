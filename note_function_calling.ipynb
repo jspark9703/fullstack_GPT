{
 "cells": [
  {
   "cell_type": "markdown",
   "metadata": {},
   "source": [
    "## function calling\n"
   ]
  },
  {
   "cell_type": "code",
   "execution_count": 8,
   "metadata": {},
   "outputs": [],
   "source": [
    "from langchain.chat_models import ChatOpenAI\n",
    "from langchain.prompts import PromptTemplate\n",
    "\n",
    "def get_weather(lon, lat):\n",
    "    print(\"call an api\")\n",
    "    \n",
    "function = {\n",
    "    \"name\" : \"get_weather\",\n",
    "    \"desciption\": \"function that takes longitude and latitude to find the weather of a place\",\n",
    "    \"parameters\":{\n",
    "        \"type\":\"object\",\n",
    "        \"properties\":{\n",
    "            \"lon\":{\n",
    "                \"type\":\"string\",\n",
    "                \"desciption\":\"The longitude coordinate\"\n",
    "            },\n",
    "            \"lat\":{\n",
    "                \"type\":\"string\",\n",
    "                \"desciption\":\"The latitude coordinate\"\n",
    "            },\n",
    "        }\n",
    "    },\n",
    "    \"required\":[\"lon\", \"lat\"]\n",
    "}\n",
    "llm = ChatOpenAI(temperature=0.1).bind(\n",
    "    function_call=\"auto\", #{\"name\":\"create_quiz\"} 함수 강제 실행\n",
    "    functions = [function]\n",
    ")\n",
    "\n",
    "prompt = PromptTemplate.from_template(\"Who is the weather in {city}\")\n",
    "\n",
    "chain = prompt | llm\n",
    "\n",
    "response =  chain.invoke({\n",
    "    \"city\":\"rome\"\n",
    "})\n",
    "\n",
    "response= response.additional_kwargs[\"function_call\"][\"arguments\"]"
   ]
  },
  {
   "cell_type": "code",
   "execution_count": 10,
   "metadata": {},
   "outputs": [
    {
     "name": "stdout",
     "output_type": "stream",
     "text": [
      "call an api\n"
     ]
    }
   ],
   "source": [
    "import json\n",
    "\n",
    "r= json.loads(response)\n",
    "\n",
    "get_weather(r[\"lon\"],r[\"lat\"])"
   ]
  }
 ],
 "metadata": {
  "kernelspec": {
   "display_name": "env",
   "language": "python",
   "name": "python3"
  },
  "language_info": {
   "codemirror_mode": {
    "name": "ipython",
    "version": 3
   },
   "file_extension": ".py",
   "mimetype": "text/x-python",
   "name": "python",
   "nbconvert_exporter": "python",
   "pygments_lexer": "ipython3",
   "version": "3.11.0"
  }
 },
 "nbformat": 4,
 "nbformat_minor": 2
}
