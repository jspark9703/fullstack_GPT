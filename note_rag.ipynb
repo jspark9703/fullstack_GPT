{
 "cells": [
  {
   "cell_type": "markdown",
   "metadata": {},
   "source": [
    "## Retrieval-Augmented Generation \n",
    "### Data Loaders and Splitters  \n",
    "\n",
    "문서 분할 -> 필요한 걸 효율적으로 탐색, 프롬프트에 제공"
   ]
  },
  {
   "cell_type": "code",
   "execution_count": 2,
   "metadata": {},
   "outputs": [],
   "source": [
    "from langchain.chat_models import ChatOpenAI\n",
    "from langchain.document_loaders import UnstructuredFileLoader\n",
    "from langchain.text_splitter import RecursiveCharacterTextSplitter\n",
    "\n",
    "splitter = RecursiveCharacterTextSplitter.from_tiktoken_encoder(\n",
    "    separators=\"\\n\",\n",
    "    chunk_size=600,\n",
    "    chunk_overlap = 100,\n",
    "    \n",
    ")\n",
    "\n",
    "loader = UnstructuredFileLoader(\"./files/geoge_owel.txt\")\n",
    "\n",
    "\n",
    "docs = loader.load_and_split(text_splitter=splitter)\n",
    "\n",
    "# splitter.split_documents(docs)"
   ]
  },
  {
   "cell_type": "markdown",
   "metadata": {},
   "source": [
    "tokenizer  \n",
    "    -> token, token id\n",
    "\n",
    "tictoken package"
   ]
  },
  {
   "cell_type": "markdown",
   "metadata": {},
   "source": [
    "vectorize\n",
    "\n",
    "https://turbomaze.github.io/word2vecjson/\n",
    "\n",
    "https://www.youtube.com/watch?v=2eWuYf-aZE4\n"
   ]
  },
  {
   "cell_type": "markdown",
   "metadata": {},
   "source": [
    "#### Retrieval QA\n",
    "\n",
    "document chain type = stuff, refine, map reduce, map re-rank"
   ]
  },
  {
   "cell_type": "code",
   "execution_count": 10,
   "metadata": {},
   "outputs": [],
   "source": [
    "from langchain.embeddings import OpenAIEmbeddings,CacheBackedEmbeddings\n",
    "from langchain.vectorstores import Chroma,FAISS\n",
    "from langchain.storage import LocalFileStore\n",
    "from langchain.chains import RetrievalQA\n",
    "from langchain.chat_models import ChatOpenAI\n",
    "\n",
    "llm = ChatOpenAI(temperature=0.1)\n",
    "cache_dir = LocalFileStore(\"./.cache/\")\n",
    "\n",
    "\n",
    "embedder = OpenAIEmbeddings()\n",
    "\n",
    "cached_embeddings = CacheBackedEmbeddings.from_bytes_store(\n",
    "    embedder, cache_dir\n",
    ")\n",
    "\n",
    "vectorstore = FAISS.from_documents(docs, cached_embeddings)\n",
    "\n"
   ]
  },
  {
   "cell_type": "markdown",
   "metadata": {},
   "source": [
    "## stuff LCEL Chain"
   ]
  },
  {
   "cell_type": "code",
   "execution_count": 12,
   "metadata": {},
   "outputs": [
    {
     "data": {
      "text/plain": [
       "AIMessage(content='Victory Mansions is a building where Winston Smith resides. It is described as having glass doors at the entrance, which allow gritty dust to enter along with people. The hallway of Victory Mansions has a smell of boiled cabbage and old rag mats. There is a large colored poster on one end of the hallway, depicting the face of a man with a black mustache. The building has seven floors, and the lift is often not working due to the electricity being cut off during daylight hours. The poster with the enormous face, with the caption \"BIG BROTHER IS WATCHING YOU,\" is present on each landing opposite the lift-shaft.')"
      ]
     },
     "execution_count": 12,
     "metadata": {},
     "output_type": "execute_result"
    }
   ],
   "source": [
    "from langchain.prompts import ChatPromptTemplate\n",
    "from langchain.schema.runnable import RunnablePassthrough\n",
    "\n",
    "retriever = vectorstore.as_retriever()\n",
    "prompt = ChatPromptTemplate.from_messages([\n",
    "    (\"system\", \"you are a helpful assitant. Answer questions using only the following context. If you don't know the answer just say you don't know, don't make it up.\\n{context}\")\n",
    ", (\"human\", \"{question}\")])\n",
    "chain = {\"context\":retriever,\"question\": RunnablePassthrough()} | prompt |llm\n",
    "\n",
    "chain.invoke(\"Describe Victory Mansions\")"
   ]
  },
  {
   "cell_type": "markdown",
   "metadata": {},
   "source": [
    "## map reduce LCEL Chain  \n",
    "모델 타입 결정 -> prompt의 크기와 doc의 수에 따라 달라짐\n",
    "\n",
    "map reduce => doc이 매우많은 경우 적합"
   ]
  },
  {
   "cell_type": "code",
   "execution_count": 14,
   "metadata": {},
   "outputs": [
    {
     "data": {
      "text/plain": [
       "AIMessage(content='Victory Mansions is a building complex located in London, specifically in Airstrip One, which is the chief city of Oceania. The exact size and appearance of Victory Mansions are not mentioned in the given context. However, it is overshadowed by the Ministry of Truth and three other similar buildings. The building has glass doors that Winston Smith enters, and the hallway has a distinct smell of boiled cabbage and old rag mats. There is a large colored poster at one end of the hallway, depicting the face of a man in his forties with a black mustache. The flat that Winston lives in is on the seventh floor, and he usually has to climb the stairs since the lift is often not working. On each landing, there is a poster with the face of a man, and the caption beneath it reads \"BIG BROTHER IS WATCHING YOU.\" Inside the flat, there is a telescreen, an oblong metal plaque on the right-hand wall that cannot be completely shut off. The living-room of the flat has a unique layout, with the telescreen positioned unusually opposite the window instead of the end wall. There is also a shallow alcove in the room, possibly intended for bookshelves. By sitting in this alcove, Winston can stay out of sight from the telescreen, although he can still be heard. The room\\'s layout has inspired Winston to take a certain action, although the specific action is not mentioned in the given context.')"
      ]
     },
     "execution_count": 14,
     "metadata": {},
     "output_type": "execute_result"
    }
   ],
   "source": [
    "from langchain.schema.runnable import RunnableLambda\n",
    "# RunnableLambda : 체인과 그 내부에서 함수를 호출할 수 있도록 해줌\n",
    "map_doc_prompt = ChatPromptTemplate.from_messages([\n",
    "    (\"system\", \n",
    "    \"\"\"\n",
    "    Use the following context of a long document to see if any of the text is relevant to answer the question. Return any relevant text verbatim.\n",
    "    ---\n",
    "    {context}\n",
    "    \"\"\"\n",
    "    ),\n",
    "    (\"human\",\"{question}\"),\n",
    "])\n",
    "\n",
    "map_doc_chain = map_doc_prompt | llm\n",
    "\n",
    "def map_docs(inputs):\n",
    "    documents = inputs[\"documents\"]\n",
    "    question = inputs[\"question\"]\n",
    "    # results = []\n",
    "    # for document in documents :\n",
    "    #     result =  map_doc_chain.invoke({\n",
    "    #         \"context\": document.page_content,\n",
    "    #         \"question\": question\n",
    "    #     }).content\n",
    "    #     result.append(result)\n",
    "    # results = \"\\n\\n\".join(results)\n",
    "    return \"\\n\\n\".join(map_doc_chain.invoke({\"context\": doc.page_content,\"question\": question}).content for doc in documents)\n",
    "\n",
    "map_chain = {\"documents\": retriever,\"question\" : RunnablePassthrough()}| RunnableLambda(map_docs)\n",
    "\n",
    "final_prompt = ChatPromptTemplate.from_messages([\n",
    "    (\"system\", \n",
    "    \"\"\"\n",
    "    Given the following extracted parts of a long document and a question, create a final answer.\n",
    "    if you don't know the answer, just say that you don't know. Don't try to make up an answer.\n",
    "    ---\n",
    "    {context}\n",
    "    \"\"\"\n",
    "    ),\n",
    "    (\"human\",\"{question}\"),\n",
    "])\n",
    "\n",
    "\n",
    "chain = {\"context\":map_chain ,\"question\" : RunnablePassthrough()} |final_prompt |llm\n",
    "\n",
    "chain.invoke(\"Describe Victory Mansions\")"
   ]
  },
  {
   "cell_type": "code",
   "execution_count": null,
   "metadata": {},
   "outputs": [],
   "source": []
  }
 ],
 "metadata": {
  "kernelspec": {
   "display_name": "env",
   "language": "python",
   "name": "python3"
  },
  "language_info": {
   "codemirror_mode": {
    "name": "ipython",
    "version": 3
   },
   "file_extension": ".py",
   "mimetype": "text/x-python",
   "name": "python",
   "nbconvert_exporter": "python",
   "pygments_lexer": "ipython3",
   "version": "3.11.0"
  }
 },
 "nbformat": 4,
 "nbformat_minor": 2
}
